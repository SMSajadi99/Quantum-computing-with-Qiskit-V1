{
 "cells": [
  {
   "cell_type": "markdown",
   "metadata": {},
   "source": [
    "# Basics of Python, CS Jargon (by QAIOT - QML Course 2023)"
   ]
  },
  {
   "cell_type": "markdown",
   "metadata": {},
   "source": [
    "## Some brief definitions at a high level\n",
    "\n",
    "### Bit: \n",
    "Represents classical data and can be 0 or 1\n",
    "\n",
    "### Qubit: \n",
    "Represents quantum data as a normalised unit vector in a Hilbert Space\n",
    "\n",
    "### Byte: \n",
    "8 bits is referred to as a byte.\n",
    "\n",
    "### Logic gates: \n",
    "Building blocks of classical and quantum software. Physically, it's just a circuit with one or more inputs and one output. Examples include AND, OR, NOT, XOR, Pauli X/Y/Z, Hadamard, CNOT etc. \n",
    "\n",
    "### Libraries:\n",
    "Code that has already been written and achieves specific tasks e.g. generating random numbers, doing matrix maths, quantum programming etc. E.g. Pennylane, Numpy, Random, Math, etc. These aren't part of python by default so use the keyword `import` to use them.\n",
    "\n",
    "### Protocols:\n",
    "Fancy name for a set of rules in computing. Examples: Internet Protocol, Transmission Control Protocol, BB84, Superdense Coding Protocol etc.\n",
    "\n",
    "### Algorithms:\n",
    "A step by step approach to solve any problem, whether that's cooking a meal or finding your name from a massive list of students.\n",
    "There are different types of algorithms if you're interested: searching algorithms, sorting algorithms, path finding algorithms, optimization and recommendation algorithms etc. You will have used at least one of these in the past!\n",
    "\n",
    "### Efficiency and Big O:\n",
    "Big O is a mathematical way to represent how much time or how much space an algorithm takes as the number of inputs get very large (i.e. tend to infinity)\n",
    "Efficient algorithms are the ones with some of the smallest Big Os!\n",
    "\n",
    "### Encryption:\n",
    "Converting your readable message- aka plaintext to an unreadable form- aka ciphertext\n",
    "\n",
    "### Decryption:\n",
    "Converting ciphertext to plain text\n",
    "\n",
    "### Simulation:\n",
    "A computer model which predicts the outcome of a physical system.\n"
   ]
  },
  {
   "cell_type": "markdown",
   "metadata": {},
   "source": [
    "### Syntax:\n",
    "Think of this as the grammar of a language. It's a bunch of rules which you need to adhere to so the computer can understand you. The way code is written in different languages is its 'syntax'.\n",
    "\n",
    "### Inputs:\n",
    "Anything you define or info you give to the computer. Outputs -a result of one calculation can also be inputs for another calculation. E.g. \"num1\" and \"num2\" are input into \"prod\", see e.g. below.\n",
    "\n",
    "NOTE: if you  use the 'input' keyword, python assumes it is a string even if you entered numbers. You can change a string to an integer by using 'int' and 'str' to do the opposite.\n",
    "\n",
    "### Computation:\n",
    "This is where computers do fancy maths quickly and accurately  using gates to produce an output!\n",
    "\n",
    "### Ouputs:\n",
    "A result of a computaion/ calculation that we get after running or executing our code.\n",
    "\n",
    "### Variables:\n",
    "Just like in maths, variables store different values. \n",
    "Question: in the e.g. below, <b>what are some of the variables and what values do they store?</b>\n",
    "\n",
    "### Keywords:\n",
    "There are some reserved words that Python understands by default. You cannot use these words as variable names. In the example below, the keywords are 'input' and 'print'. They are highlighted in red.Question: <b>Can you spot other keywords in this notebook? </b>\n",
    "\n",
    "### Strings:\n",
    "Anything within quotes.<b> Can you find the three strings in the example below?</b>\n",
    "\n",
    "### Print Statements:\n",
    "You can print/ display something when you run programs."
   ]
  },
  {
   "cell_type": "code",
   "execution_count": 2,
   "metadata": {},
   "outputs": [
    {
     "name": "stdout",
     "output_type": "stream",
     "text": [
      "\n",
      "\n",
      "Product =  15\n"
     ]
    }
   ],
   "source": [
    "#create a variable\n",
    "name = 2\n",
    "\n",
    "#display result\n",
    "print()\n",
    "\n",
    "num1 = 5\n",
    "num2 = 3\n",
    "prod = num1*num2\n",
    "print(\"\\nProduct = \", prod)"
   ]
  },
  {
   "cell_type": "markdown",
   "metadata": {},
   "source": [
    "\n",
    "### Conditional Statements:\n",
    "Aka \"if-else\" statements are used to run a block of code only if a particular condition is true.\n",
    "\n",
    "### Loops:\n",
    "Execute a block of code over and over again until a certain condition is met. There are two types of loops- while loops (See below) and for loops.\n"
   ]
  },
  {
   "cell_type": "code",
   "execution_count": 3,
   "metadata": {},
   "outputs": [
    {
     "name": "stdout",
     "output_type": "stream",
     "text": [
      "Enter your age: 4\n",
      "2  is a child.\n"
     ]
    }
   ],
   "source": [
    "age = int(input(\"Enter your age: \"))\n",
    "while age < 0 or age > 120:\n",
    "    age = int(input(\"Enter your age:\"))\n",
    "    \n",
    "if age < 13:\n",
    "    print(name, \" is a child.\")\n",
    "elif age > 20:\n",
    "    print(\"Happy Adulting, \",name)\n",
    "else:\n",
    "    print(name,\" is a teen.\")"
   ]
  },
  {
   "cell_type": "markdown",
   "metadata": {},
   "source": [
    "### Practice:\n",
    "1. Ask the user what day of the week it is\n",
    "2. If it’s Monday, print “Happy Monday”\n",
    "3. If it’s Friday, print “It’s almost the weekend”\n",
    "4. If it’s Saturday/Sunday, print “It’s the weekend!!!”\n",
    "5. If the input is invalid, keep asking for an input until an acceptable answer is entered.\n"
   ]
  },
  {
   "cell_type": "code",
   "execution_count": 4,
   "metadata": {},
   "outputs": [],
   "source": [
    "#Your Solution\n",
    "#days = [\"M\",\"T\",\"W\",\"Th\",\"F\",\"Sat\",\"Sun\"]"
   ]
  },
  {
   "cell_type": "markdown",
   "metadata": {},
   "source": [
    "### Lists:\n",
    "Think of lists as grocery lists (although they can be anything) as a way to store many things in one variable. In python, lists are defined using a pair of square brackets. \n",
    "\n",
    "### Indices and Indexing:\n",
    "An index (plural: indices) points to a particular element in a list or a particular character in a string according to its position. Indices in computing always begin at 0.\n",
    "\n",
    "### For Loops:\n",
    "Useful to iterate/ go through a list or a string.\n",
    "\n",
    "### Functions:\n",
    "- They are self-contained pieces of code that achieve a <b>single specific task.</b> \n",
    "- A function can take in inputs and processes them. These inputs have a special name: <b>parameters</b>. The parameters in this example are strings or lists etc.\n",
    "-It then <b>returns</b> an output.\n",
    "\n",
    "- E.g. `len` is a python function and finds the length of your list or string. <b> In the example below, can you think what the paramter is and what the output will be for thr function `len`?</b><br>\n",
    "<b>Can you spot another function?</b>\n",
    "\n",
    "### Practice\n",
    "Ask five of your friends what they would like you to bring them from the shops and \"append\" them to your list and print out all the items.\n",
    "E.g. `myList.append(\"Pizza\")`\n"
   ]
  },
  {
   "cell_type": "code",
   "execution_count": 5,
   "metadata": {},
   "outputs": [
    {
     "name": "stdout",
     "output_type": "stream",
     "text": [
      "Apples\n",
      "Apples \n",
      "\n",
      "Bananas \n",
      "\n",
      "Carrots \n",
      "\n"
     ]
    }
   ],
   "source": [
    "myList = [\"Apples\", \"Bananas\", \"Carrots\"]\n",
    "print(myList[0]) #this prints the first element as the index is 0.\n",
    "\n",
    "for i in range(len(myList)):\n",
    "    print(myList[i],'\\n')    "
   ]
  },
  {
   "cell_type": "code",
   "execution_count": 6,
   "metadata": {},
   "outputs": [
    {
     "name": "stdout",
     "output_type": "stream",
     "text": [
      "Enter your item: apple\n",
      "Enter your item: Banana\n",
      "Enter your item: Cherry\n",
      "Enter your item: Berry\n",
      "Enter your item: Orange\n",
      "\n",
      " ['Apples', 'Bananas', 'Carrots', 'apple', 'Banana', 'Cherry', 'Berry', 'Orange']\n"
     ]
    }
   ],
   "source": [
    "#Solution:\n",
    "#myList = []\n",
    "for i in range(5):\n",
    "    item = input(\"Enter your item: \")\n",
    "    myList.append(item)\n",
    "print('\\n',myList)"
   ]
  },
  {
   "cell_type": "markdown",
   "metadata": {},
   "source": [
    "### DIY Functions\n",
    "You can also make your own functions. \n",
    "All functions need to be 'called' if they are to be used.\n",
    "If your function has parameters, you need to call the function with <b>arguments</b>- i.e. the actual values of your function inputs. In the example above, myList is the argument.\n",
    "You can use the keyword `def` to define a function\n",
    "\n",
    "#### Questions:\n",
    "1. What is the name of the function below?\n",
    "2. Does it have parameters? If so, what are they?\n",
    "3. What does the function achieve?\n",
    "4. Which line is the function call?\n",
    "5. What are the arguments?\n"
   ]
  },
  {
   "cell_type": "code",
   "execution_count": 7,
   "metadata": {},
   "outputs": [
    {
     "data": {
      "text/plain": [
       "(122, -56, 2937, 0.3707865168539326)"
      ]
     },
     "execution_count": 7,
     "metadata": {},
     "output_type": "execute_result"
    }
   ],
   "source": [
    "def myCalculator(num1,num2):\n",
    "    total = num1 + num2\n",
    "    diff = num1-num2\n",
    "    prod = num1*num2\n",
    "    div = num1/num2\n",
    "    return(total, diff, prod, div)\n",
    "myNum1 = 33 #feel free to change these\n",
    "myNum2 = 89\n",
    "myCalculator(myNum1, myNum2)"
   ]
  },
  {
   "cell_type": "markdown",
   "metadata": {},
   "source": [
    "\n",
    "### Practice:\n",
    "Write a function which takes two numbers and returns the greater of the two."
   ]
  },
  {
   "cell_type": "code",
   "execution_count": 8,
   "metadata": {},
   "outputs": [],
   "source": [
    "#Your Solution"
   ]
  },
  {
   "cell_type": "markdown",
   "metadata": {},
   "source": [
    "### Helpful Resources for Python Practice \n",
    "Hopefully they're a bit of fun too.\n",
    "\n",
    "1. https://www.codingame.com/ \n",
    "2. https://projecteuler.net/about\n",
    "3. https://www.edureka.co/blog/python-projects/#z4\n",
    "4. https://www.codewars.com/collections/basic-python\n",
    "5. https://www.codecademy.com/learn/learn-python-3\n"
   ]
  },
  {
   "cell_type": "markdown",
   "metadata": {},
   "source": [
    "# Topics we will cover:\n",
    "\n",
    "1. Variable definitions\n",
    "2. Lists\n",
    "3. if statements\n",
    "4. for loops\n",
    "5. functions"
   ]
  },
  {
   "cell_type": "markdown",
   "metadata": {},
   "source": [
    "<a id=\"varsdatatypes\"></a>\n",
    "# Variables and data types"
   ]
  },
  {
   "cell_type": "markdown",
   "metadata": {},
   "source": [
    "**Variables** are containers for storing data values.\n",
    "\n",
    "Python has no command for declaring a variable. A variable is created the moment you first assign a value to it.\n",
    "\n",
    "The equal sign (`=`) is used to assign values to variables. The operand to the left of the `=` operator is the name of the variable and the operand to the right of the `=` operator is the value stored in the variable.\n",
    "\n",
    "Variables do not need to be declared with any particular type, and can even change type after they have been set."
   ]
  },
  {
   "cell_type": "markdown",
   "metadata": {},
   "source": [
    "**Question 1**- Create two variables:\n",
    "1. `name`, to store your name in it\n",
    "2. `bit`, to store a bit - either 0 or 1\n",
    "\n",
    "Next, print the following sentence: \"The value of (insert your name)'s bit is (insert bit value)\""
   ]
  },
  {
   "cell_type": "markdown",
   "metadata": {},
   "source": [
    "## Step 1: Creating the variables"
   ]
  },
  {
   "cell_type": "code",
   "execution_count": 9,
   "metadata": {},
   "outputs": [
    {
     "name": "stdout",
     "output_type": "stream",
     "text": [
      "The value of Akshay's bit is 0\n"
     ]
    }
   ],
   "source": [
    "# insert code to create name\n",
    "# insert code to create bit\n",
    "name = \"Akshay\"  # Akshay is stored as a string\n",
    "bit = 0\n",
    "print(\"The value of \" + name + \"'s bit is \" + str(bit))"
   ]
  },
  {
   "cell_type": "markdown",
   "metadata": {},
   "source": [
    "## Step 2: Printing the statement"
   ]
  },
  {
   "cell_type": "markdown",
   "metadata": {},
   "source": [
    "The Python `print()` statement is often used to output variables. To combine both text and a variable, Python uses the `+` character:"
   ]
  },
  {
   "cell_type": "code",
   "execution_count": 10,
   "metadata": {},
   "outputs": [],
   "source": [
    "# insert code to print"
   ]
  },
  {
   "cell_type": "markdown",
   "metadata": {},
   "source": [
    "<a id=\"lists\"></a>\n",
    "## Lists"
   ]
  },
  {
   "cell_type": "markdown",
   "metadata": {},
   "source": [
    "Lists are used to store multiple items in a single variable.\n",
    "\n",
    "Lists are created using square brackets."
   ]
  },
  {
   "cell_type": "markdown",
   "metadata": {},
   "source": [
    "List items are **indexed** and you can access them by referring to the index number. The indices start at `0`."
   ]
  },
  {
   "cell_type": "markdown",
   "metadata": {},
   "source": [
    "**Question 2** - Create a list called `my_list` to store the names of all the quantum gates you know. Print the following:\n",
    "1. The whole list\n",
    "2. The length of the list\n",
    "3. The 5th element of the list"
   ]
  },
  {
   "cell_type": "code",
   "execution_count": 11,
   "metadata": {},
   "outputs": [
    {
     "name": "stdout",
     "output_type": "stream",
     "text": [
      "['X gate', 'Y gate', 'Z gate', 'H gate', 'CNOT gate', 'Rx gate']\n",
      "6\n",
      "CNOT gate\n"
     ]
    }
   ],
   "source": [
    "# insert code to create my_list\n",
    "# insert code to print\n",
    "my_list = [\"X gate\", \"Y gate\", \"Z gate\", \"H gate\", \"CNOT gate\", \"Rx gate\"]\n",
    "print(my_list)\n",
    "print(len(my_list))\n",
    "print(my_list[4])"
   ]
  },
  {
   "cell_type": "markdown",
   "metadata": {},
   "source": [
    "<a id=\"controlflow\"></a>\n",
    "# Control flow and loops"
   ]
  },
  {
   "cell_type": "markdown",
   "metadata": {},
   "source": [
    "Python supports the usual logical conditions from mathematics:\n",
    "\n",
    "- Equals: `a == b`\n",
    "- Not Equals: `a != b`\n",
    "- Less than: `a < b`\n",
    "- Less than or equal to: `a <= b`\n",
    "- Greater than: `a > b`\n",
    "- Greater than or equal to: `a >= b`\n",
    "\n",
    "These conditions can be used in several ways, most commonly in \"if statements\" and loops."
   ]
  },
  {
   "cell_type": "markdown",
   "metadata": {},
   "source": [
    "<a id=\"if\"></a>\n",
    "## `if` statements"
   ]
  },
  {
   "cell_type": "markdown",
   "metadata": {},
   "source": [
    "If statements are used to perform actions if a certain condition is true. An \"if statement\" is written by using the `if` keyword. If you want to test for multiple conditions sequentially, use `if` followed by `elif` and/or `else`"
   ]
  },
  {
   "cell_type": "markdown",
   "metadata": {},
   "source": [
    "Python relies on indentation (whitespace at the beginning of a line) to define scope in the code. Other programming languages often use curly-brackets for this purpose."
   ]
  },
  {
   "cell_type": "markdown",
   "metadata": {},
   "source": [
    "Question 3: Create two variables `a` and `b`, and store a bit (either 0 or 1) in each of these variables. These bits might have been the result of a classical measurement on a 2 qubit quantum circuit, for example. \n",
    "\n",
    "1. Print \"a is greater than b\" if a is greater than b\n",
    "\n",
    "2. Print \"a is equal to b\" if a is equal to b\n",
    "\n",
    "3. Print \"a is less than b\" if a is less than b"
   ]
  },
  {
   "cell_type": "code",
   "execution_count": 12,
   "metadata": {},
   "outputs": [
    {
     "name": "stdout",
     "output_type": "stream",
     "text": [
      "a is greater than b\n"
     ]
    }
   ],
   "source": [
    "# insert code for creating a and b\n",
    "# insert code for comparing and printing the correct statement\n",
    "a = 1\n",
    "b = 0\n",
    "if (a>b):\n",
    "    print(\"a is greater than b\")\n",
    "elif (a == b):\n",
    "    print(\"a is equal to b\")\n",
    "else:\n",
    "    print(\"a is less than b\")\n",
    "\n"
   ]
  },
  {
   "cell_type": "markdown",
   "metadata": {},
   "source": [
    "<a id=\"for\"></a>\n",
    "## `for` statements"
   ]
  },
  {
   "cell_type": "markdown",
   "metadata": {},
   "source": [
    "A for loop is used for iterating over a sequence (that is either a list, a tuple, a dictionary, a set, or a string).\n",
    "\n",
    "With the for loop we can execute a set of statements, once for each item in a list, tuple, set etc."
   ]
  },
  {
   "cell_type": "markdown",
   "metadata": {},
   "source": [
    "The `range()` function returns a sequence of numbers, starting from 0 by default, and increments by 1 (by default), and ends at a specified number."
   ]
  },
  {
   "cell_type": "markdown",
   "metadata": {},
   "source": [
    "**Question 4** - Alice and Bob have been using QKD to build their keys. The length of their keys is Alice's key is 8 bits. Alice's key is `00110001`. Bob's key is `00100001`. Store their keys as strings in two variables named `alice_key` and `bob_key`. Next, compare their keys one bit at a time, and print whether each bit of their keys match or not. "
   ]
  },
  {
   "cell_type": "code",
   "execution_count": 13,
   "metadata": {},
   "outputs": [
    {
     "name": "stdout",
     "output_type": "stream",
     "text": [
      "The bits at index 0 match.\n",
      "The bits at index 1 match.\n",
      "The bits at index 2 match.\n",
      "The bits at index 3 match.\n",
      "The bits at index 4 match.\n",
      "The bits at index 5 match.\n",
      "The bits at index 6 match.\n",
      "The bits at index 7 match.\n"
     ]
    }
   ],
   "source": [
    "# insert code to store keys\n",
    "#insert code to compare each bit of the keys and print if they match\n",
    "alice_key = \"00110001\"\n",
    "bob_key = \"00110001\"\n",
    "for i in range(8):\n",
    "    if (alice_key[i] == bob_key[i]):\n",
    "        print(\"The bits at index \" + str(i)+ \" match.\")\n",
    "    else:\n",
    "        print(\"The bits at index \" + str(i)+ \" do not match.\")"
   ]
  },
  {
   "cell_type": "markdown",
   "metadata": {},
   "source": [
    "<a id=\"functions\"></a>\n",
    "# Functions"
   ]
  },
  {
   "cell_type": "markdown",
   "metadata": {},
   "source": [
    "A function is a block of code referenced which only runs when it is called. The idea is to put some commonly or repeatedly done task together and make a function so that instead of writing the same sentences again and again for different inputs, we can call the function to reuse the code contained in it over and over again.\n",
    "\n",
    "Functions can be both built-in like `print()`, `input()`, `compile()`, `exec()`, etc. and user-defined because also gives freedom to create your own functions."
   ]
  },
  {
   "cell_type": "markdown",
   "metadata": {},
   "source": [
    "<a id=\"defining\"></a>\n",
    "## Defining and call a function"
   ]
  },
  {
   "cell_type": "markdown",
   "metadata": {},
   "source": [
    "A function is defined using the `def` keyword:"
   ]
  },
  {
   "cell_type": "code",
   "execution_count": 14,
   "metadata": {},
   "outputs": [],
   "source": [
    "def my_function():\n",
    "    print(\"Hello from QAIOT\")"
   ]
  },
  {
   "cell_type": "markdown",
   "metadata": {},
   "source": [
    "To call a function, use the function name followed by parenthesis:"
   ]
  },
  {
   "cell_type": "code",
   "execution_count": 15,
   "metadata": {},
   "outputs": [
    {
     "name": "stdout",
     "output_type": "stream",
     "text": [
      "Hello from QAIOT\n"
     ]
    }
   ],
   "source": [
    "my_function()"
   ]
  },
  {
   "cell_type": "markdown",
   "metadata": {},
   "source": [
    "<a id=\"arguments\"></a>\n",
    "## Arguments"
   ]
  },
  {
   "cell_type": "markdown",
   "metadata": {},
   "source": [
    "Information can be passed into functions as arguments.\n",
    "\n",
    "Arguments are specified after the function name, inside the parentheses. You can add as many arguments as you want, just separate them with a comma:"
   ]
  },
  {
   "cell_type": "markdown",
   "metadata": {},
   "source": [
    "**Question 5:** Create a function to compare Alice and Bob's keys from question 4, and call this function."
   ]
  },
  {
   "cell_type": "code",
   "execution_count": 16,
   "metadata": {},
   "outputs": [],
   "source": [
    "# Define the function\n",
    "def compare(a, b):\n",
    "    for i in range(len(a)):\n",
    "        if (a[i] == b[i]):\n",
    "            print(\"The bits at index \" + str(i)+ \" match.\")\n",
    "        else:\n",
    "            print(\"The bits at index \" + str(i)+ \" do not match.\")"
   ]
  },
  {
   "cell_type": "code",
   "execution_count": 17,
   "metadata": {},
   "outputs": [
    {
     "name": "stdout",
     "output_type": "stream",
     "text": [
      "The bits at index 0 match.\n",
      "The bits at index 1 do not match.\n",
      "The bits at index 2 match.\n",
      "The bits at index 3 do not match.\n",
      "The bits at index 4 do not match.\n",
      "The bits at index 5 match.\n",
      "The bits at index 6 do not match.\n",
      "The bits at index 7 do not match.\n",
      "The bits at index 8 do not match.\n",
      "The bits at index 9 do not match.\n"
     ]
    }
   ],
   "source": [
    "# Define Alice and Bob's keys and call the function\n",
    "alice_key = \"0001001010\"\n",
    "bob_key = \"0100100101\"\n",
    "compare(alice_key,bob_key) # calling function"
   ]
  },
  {
   "cell_type": "code",
   "execution_count": null,
   "metadata": {},
   "outputs": [],
   "source": []
  }
 ],
 "metadata": {
  "kernelspec": {
   "display_name": "Python 3",
   "language": "python",
   "name": "python3"
  },
  "language_info": {
   "codemirror_mode": {
    "name": "ipython",
    "version": 3
   },
   "file_extension": ".py",
   "mimetype": "text/x-python",
   "name": "python",
   "nbconvert_exporter": "python",
   "pygments_lexer": "ipython3",
   "version": "3.7.0"
  }
 },
 "nbformat": 4,
 "nbformat_minor": 5
}
